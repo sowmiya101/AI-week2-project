{
 "cells": [
  {
   "cell_type": "code",
   "execution_count": null,
   "id": "7c456970",
   "metadata": {},
   "outputs": [],
   "source": [
    "import spacy\n",
    "from spacy.matcher import PhraseMatcher\n",
    "\n",
    "# Load the English language model\n",
    "nlp = spacy.load(\"en_core_web_sm\")\n",
    "\n",
    "# Define your input text with multiple sentences\n",
    "input_text = \"\"\"\n",
    "The quick brown fox jumps over the lazy dog. \n",
    "A watched pot never boils. \n",
    "Where there's smoke, there's fire.\n",
    "\"\"\"\n",
    "\n",
    "# Tokenize the input text into sentences\n",
    "doc = nlp(input_text)\n",
    "sentences = list(doc.sents)\n",
    "\n",
    "# Define a list of keywords or phrases to match\n",
    "keywords = [\"quick brown fox\", \"smoke\", \"fire\"]\n",
    "\n",
    "# Initialize the PhraseMatcher with the current vocab\n",
    "matcher = PhraseMatcher(nlp.vocab)\n",
    "\n",
    "# Create patterns from the keywords\n",
    "patterns = [nlp(keyword) for keyword in keywords]\n",
    "\n",
    "# Add the patterns to the matcher\n",
    "matcher.add(\"KeywordMatcher\", None, *patterns)\n",
    "\n",
    "# Find sentences that contain the keywords\n",
    "matching_sentences = []\n",
    "\n",
    "for sentence in sentences:\n",
    "    matches = matcher(sentence)\n",
    "    if matches:\n",
    "        matching_sentences.append(sentence)\n",
    "\n",
    "# Print the matching sentences\n",
    "if matching_sentences:\n",
    "    print(\"Matching Sentences:\")\n",
    "    for sentence in matching_sentences:\n",
    "        print(sentence.text)\n",
    "else:\n",
    "    print(\"No matching sentences found.\")\n"
   ]
  }
 ],
 "metadata": {
  "kernelspec": {
   "display_name": "Python 3 (ipykernel)",
   "language": "python",
   "name": "python3"
  },
  "language_info": {
   "codemirror_mode": {
    "name": "ipython",
    "version": 3
   },
   "file_extension": ".py",
   "mimetype": "text/x-python",
   "name": "python",
   "nbconvert_exporter": "python",
   "pygments_lexer": "ipython3",
   "version": "3.9.13"
  }
 },
 "nbformat": 4,
 "nbformat_minor": 5
}

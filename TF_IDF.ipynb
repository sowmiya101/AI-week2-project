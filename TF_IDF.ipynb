{
 "cells": [
  {
   "cell_type": "code",
   "execution_count": null,
   "id": "201b9aa6",
   "metadata": {},
   "outputs": [],
   "source": [
    "import pandas as pd\n",
    "from sklearn.feature_extraction.text import TfidfVectorizer\n",
    "from sklearn.metrics.pairwise import cosine_similarity\n",
    "import matplotlib.pyplot as plt\n",
    "\n",
    "# Load your dataset containing both fake and real news articles\n",
    "# Replace this with your actual dataset\n",
    "data = pd.read_csv(\"C:/Users/Admin/sheet2.csv\")\n",
    "\n",
    "# Preprocessing: Clean and preprocess the text data\n",
    "# You can use techniques like removing punctuation, stopwords, and stemming/lemmatization\n",
    "\n",
    "# Separate fake and real articles\n",
    "fake_articles = data[data[\"label\"] == \"fake\"][\"text\"]\n",
    "real_articles = data[data[\"label\"] == \"real\"][\"text\"]\n",
    "\n",
    "# Create TF-IDF vectorizers for fake and real articles\n",
    "tfidf_vectorizer = TfidfVectorizer()\n",
    "\n",
    "# Fit and transform the data to create TF-IDF vectors\n",
    "tfidf_fake = tfidf_vectorizer.fit_transform(fake_articles)\n",
    "tfidf_real = tfidf_vectorizer.fit_transform(real_articles)\n",
    "\n",
    "# Calculate cosine similarity between fake and real articles\n",
    "cosine_sim = cosine_similarity(tfidf_fake, tfidf_real)\n",
    "\n",
    "# Visualize the cosine similarity\n",
    "plt.imshow(cosine_sim, cmap='hot', interpolation='nearest')\n",
    "plt.title('Cosine Similarity between Fake and Real Articles')\n",
    "plt.colorbar()\n",
    "plt.show()\n"
   ]
  }
 ],
 "metadata": {
  "kernelspec": {
   "display_name": "Python 3 (ipykernel)",
   "language": "python",
   "name": "python3"
  },
  "language_info": {
   "codemirror_mode": {
    "name": "ipython",
    "version": 3
   },
   "file_extension": ".py",
   "mimetype": "text/x-python",
   "name": "python",
   "nbconvert_exporter": "python",
   "pygments_lexer": "ipython3",
   "version": "3.9.13"
  }
 },
 "nbformat": 4,
 "nbformat_minor": 5
}
